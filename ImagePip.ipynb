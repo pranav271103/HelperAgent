{
  "cells": [
    {
      "cell_type": "code",
      "execution_count": 43,
      "metadata": {
        "colab": {
          "base_uri": "https://localhost:8080/"
        },
        "id": "CLrMVhKVD_Ja",
        "outputId": "2ccd5cc0-625d-48a4-db8a-d468eb4ba895"
      },
      "outputs": [
        {
          "name": "stdout",
          "output_type": "stream",
          "text": [
            "Reading package lists... Done\n",
            "Building dependency tree... Done\n",
            "Reading state information... Done\n",
            "tesseract-ocr is already the newest version (4.1.1-2.1build1).\n",
            "0 upgraded, 0 newly installed, 0 to remove and 35 not upgraded.\n",
            "Collecting pytesseract\n",
            "  Downloading pytesseract-0.3.13-py3-none-any.whl.metadata (11 kB)\n",
            "Requirement already satisfied: google-generativeai in /usr/local/lib/python3.11/dist-packages (0.8.5)\n",
            "Requirement already satisfied: pillow in /usr/local/lib/python3.11/dist-packages (11.2.1)\n",
            "Requirement already satisfied: packaging>=21.3 in /usr/local/lib/python3.11/dist-packages (from pytesseract) (24.2)\n",
            "Requirement already satisfied: google-ai-generativelanguage==0.6.15 in /usr/local/lib/python3.11/dist-packages (from google-generativeai) (0.6.15)\n",
            "Requirement already satisfied: google-api-core in /usr/local/lib/python3.11/dist-packages (from google-generativeai) (2.25.1)\n",
            "Requirement already satisfied: google-api-python-client in /usr/local/lib/python3.11/dist-packages (from google-generativeai) (2.174.0)\n",
            "Requirement already satisfied: google-auth>=2.15.0 in /usr/local/lib/python3.11/dist-packages (from google-generativeai) (2.38.0)\n",
            "Requirement already satisfied: protobuf in /usr/local/lib/python3.11/dist-packages (from google-generativeai) (5.29.5)\n",
            "Requirement already satisfied: pydantic in /usr/local/lib/python3.11/dist-packages (from google-generativeai) (2.11.7)\n",
            "Requirement already satisfied: tqdm in /usr/local/lib/python3.11/dist-packages (from google-generativeai) (4.67.1)\n",
            "Requirement already satisfied: typing-extensions in /usr/local/lib/python3.11/dist-packages (from google-generativeai) (4.14.0)\n",
            "Requirement already satisfied: proto-plus<2.0.0dev,>=1.22.3 in /usr/local/lib/python3.11/dist-packages (from google-ai-generativelanguage==0.6.15->google-generativeai) (1.26.1)\n",
            "Requirement already satisfied: googleapis-common-protos<2.0.0,>=1.56.2 in /usr/local/lib/python3.11/dist-packages (from google-api-core->google-generativeai) (1.70.0)\n",
            "Requirement already satisfied: requests<3.0.0,>=2.18.0 in /usr/local/lib/python3.11/dist-packages (from google-api-core->google-generativeai) (2.32.3)\n",
            "Requirement already satisfied: cachetools<6.0,>=2.0.0 in /usr/local/lib/python3.11/dist-packages (from google-auth>=2.15.0->google-generativeai) (5.5.2)\n",
            "Requirement already satisfied: pyasn1-modules>=0.2.1 in /usr/local/lib/python3.11/dist-packages (from google-auth>=2.15.0->google-generativeai) (0.4.2)\n",
            "Requirement already satisfied: rsa<5,>=3.1.4 in /usr/local/lib/python3.11/dist-packages (from google-auth>=2.15.0->google-generativeai) (4.9.1)\n",
            "Requirement already satisfied: httplib2<1.0.0,>=0.19.0 in /usr/local/lib/python3.11/dist-packages (from google-api-python-client->google-generativeai) (0.22.0)\n",
            "Requirement already satisfied: google-auth-httplib2<1.0.0,>=0.2.0 in /usr/local/lib/python3.11/dist-packages (from google-api-python-client->google-generativeai) (0.2.0)\n",
            "Requirement already satisfied: uritemplate<5,>=3.0.1 in /usr/local/lib/python3.11/dist-packages (from google-api-python-client->google-generativeai) (4.2.0)\n",
            "Requirement already satisfied: annotated-types>=0.6.0 in /usr/local/lib/python3.11/dist-packages (from pydantic->google-generativeai) (0.7.0)\n",
            "Requirement already satisfied: pydantic-core==2.33.2 in /usr/local/lib/python3.11/dist-packages (from pydantic->google-generativeai) (2.33.2)\n",
            "Requirement already satisfied: typing-inspection>=0.4.0 in /usr/local/lib/python3.11/dist-packages (from pydantic->google-generativeai) (0.4.1)\n",
            "Requirement already satisfied: grpcio<2.0.0,>=1.33.2 in /usr/local/lib/python3.11/dist-packages (from google-api-core[grpc]!=2.0.*,!=2.1.*,!=2.10.*,!=2.2.*,!=2.3.*,!=2.4.*,!=2.5.*,!=2.6.*,!=2.7.*,!=2.8.*,!=2.9.*,<3.0.0dev,>=1.34.1->google-ai-generativelanguage==0.6.15->google-generativeai) (1.73.1)\n",
            "Requirement already satisfied: grpcio-status<2.0.0,>=1.33.2 in /usr/local/lib/python3.11/dist-packages (from google-api-core[grpc]!=2.0.*,!=2.1.*,!=2.10.*,!=2.2.*,!=2.3.*,!=2.4.*,!=2.5.*,!=2.6.*,!=2.7.*,!=2.8.*,!=2.9.*,<3.0.0dev,>=1.34.1->google-ai-generativelanguage==0.6.15->google-generativeai) (1.71.2)\n",
            "Requirement already satisfied: pyparsing!=3.0.0,!=3.0.1,!=3.0.2,!=3.0.3,<4,>=2.4.2 in /usr/local/lib/python3.11/dist-packages (from httplib2<1.0.0,>=0.19.0->google-api-python-client->google-generativeai) (3.2.3)\n",
            "Requirement already satisfied: pyasn1<0.7.0,>=0.6.1 in /usr/local/lib/python3.11/dist-packages (from pyasn1-modules>=0.2.1->google-auth>=2.15.0->google-generativeai) (0.6.1)\n",
            "Requirement already satisfied: charset-normalizer<4,>=2 in /usr/local/lib/python3.11/dist-packages (from requests<3.0.0,>=2.18.0->google-api-core->google-generativeai) (3.4.2)\n",
            "Requirement already satisfied: idna<4,>=2.5 in /usr/local/lib/python3.11/dist-packages (from requests<3.0.0,>=2.18.0->google-api-core->google-generativeai) (3.10)\n",
            "Requirement already satisfied: urllib3<3,>=1.21.1 in /usr/local/lib/python3.11/dist-packages (from requests<3.0.0,>=2.18.0->google-api-core->google-generativeai) (2.4.0)\n",
            "Requirement already satisfied: certifi>=2017.4.17 in /usr/local/lib/python3.11/dist-packages (from requests<3.0.0,>=2.18.0->google-api-core->google-generativeai) (2025.6.15)\n",
            "Downloading pytesseract-0.3.13-py3-none-any.whl (14 kB)\n",
            "Installing collected packages: pytesseract\n",
            "Successfully installed pytesseract-0.3.13\n"
          ]
        }
      ],
      "source": [
        "!apt install tesseract-ocr\n",
        "!pip install pytesseract google-generativeai pillow\n"
      ]
    },
    {
      "cell_type": "code",
      "execution_count": null,
      "metadata": {
        "id": "BDjTkRAoEAzd"
      },
      "outputs": [],
      "source": [
        "import google.generativeai as genai\n",
        "\n",
        "# Paste your Gemini API key here\n",
        "GEMINI_API_KEY = \"YOUR API KEY HERE\"\n",
        "genai.configure(api_key=GEMINI_API_KEY)\n",
        "\n",
        "# Initialize model\n",
        "gemini_model = genai.GenerativeModel(\"gemini-1.5-flash-latest\")\n"
      ]
    },
    {
      "cell_type": "code",
      "execution_count": 49,
      "metadata": {
        "id": "3bImMVGuEJDm"
      },
      "outputs": [],
      "source": [
        "def homework_helper_agent(question):\n",
        "    if not question or question.strip() in [\"\", \".\", \"-\", \"........\"]:\n",
        "        return \" Please provide a valid question.\"\n",
        "\n",
        "    prompt = f\"\"\"\n",
        "You're an AI Homework Helper.\n",
        "\n",
        "Respond step-by-step for numerical/math problems.\n",
        "Respond with structured, clear answers for theoretical or science questions.\n",
        "\n",
        "Here’s the question:\n",
        "{question}\n",
        "\"\"\"\n",
        "    response = gemini_model.generate_content(prompt)\n",
        "    return response.text.strip()\n"
      ]
    },
    {
      "cell_type": "code",
      "execution_count": 50,
      "metadata": {
        "id": "6qJ8QVwwELi5"
      },
      "outputs": [],
      "source": [
        "import pytesseract\n",
        "from PIL import Image, ImageEnhance, ImageOps\n",
        "\n",
        "def preprocess_image(image):\n",
        "    image = ImageOps.grayscale(image)\n",
        "    image = ImageEnhance.Contrast(image).enhance(2.5)\n",
        "    image = image.resize((image.width * 2, image.height * 2))\n",
        "    return image.convert(\"RGB\")\n",
        "\n",
        "def ocr_extract_text_from_image(image_path):\n",
        "    try:\n",
        "        image = Image.open(image_path)\n",
        "        image = preprocess_image(image)\n",
        "        text = pytesseract.image_to_string(image)\n",
        "        return text.strip()\n",
        "    except Exception as e:\n",
        "        return f\"OCR error: {str(e)}\"\n"
      ]
    },
    {
      "cell_type": "code",
      "execution_count": 52,
      "metadata": {
        "colab": {
          "base_uri": "https://localhost:8080/",
          "height": 460
        },
        "id": "JTAaqFspEM-a",
        "outputId": "e6be5ba8-cb9c-468b-a817-9ac5c15b581b"
      },
      "outputs": [
        {
          "name": "stdout",
          "output_type": "stream",
          "text": [
            "Extracted Text: '3x +9 = 18'\n",
            "\n",
            "Agent Response:\n",
            " **1. Isolate the term with 'x':**\n",
            "\n",
            "Subtract 9 from both sides of the equation:\n",
            "\n",
            "3x + 9 - 9 = 18 - 9\n",
            "\n",
            "This simplifies to:\n",
            "\n",
            "3x = 9\n",
            "\n",
            "**2. Solve for 'x':**\n",
            "\n",
            "Divide both sides of the equation by 3:\n",
            "\n",
            "3x / 3 = 9 / 3\n",
            "\n",
            "This simplifies to:\n",
            "\n",
            "x = 3\n",
            "\n",
            "Therefore, the solution to the equation 3x + 9 = 18 is $\\boxed{x = 3}$\n"
          ]
        }
      ],
      "source": [
        "img_path = \"output.jpg\"  # Your actual image file\n",
        "extracted_text = ocr_extract_text_from_image(img_path)\n",
        "print(\"Extracted Text:\", repr(extracted_text))\n",
        "\n",
        "response = homework_helper_agent(extracted_text)\n",
        "print(\"\\nAgent Response:\\n\", response)\n"
      ]
    },
    {
      "cell_type": "markdown",
      "metadata": {
        "id": "h_zj7B41KwIN"
      },
      "source": [
        "![output.jpg](data:image/jpeg;base64,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)"
      ]
    }
  ],
  "metadata": {
    "colab": {
      "provenance": []
    },
    "kernelspec": {
      "display_name": "Python 3",
      "name": "python3"
    },
    "language_info": {
      "name": "python"
    }
  },
  "nbformat": 4,
  "nbformat_minor": 0
}
