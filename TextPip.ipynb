{
  "cells": [
    {
      "cell_type": "code",
      "execution_count": 14,
      "metadata": {
        "id": "K8HyL_C6wpEI"
      },
      "outputs": [],
      "source": [
        "!pip install -q google-generativeai\n"
      ]
    },
    {
      "cell_type": "code",
      "execution_count": 15,
      "metadata": {
        "colab": {
          "base_uri": "https://localhost:8080/"
        },
        "id": "44xp-Z7hngA5",
        "outputId": "f1e20f32-b6ba-4f3b-95c2-a8b9a326c9af"
      },
      "outputs": [
        {
          "name": "stdout",
          "output_type": "stream",
          "text": [
            "Enter your Gemini API key: ··········\n"
          ]
        }
      ],
      "source": [
        "import google.generativeai as genai\n",
        "import getpass\n",
        "import sympy as sp\n",
        "import re\n",
        "\n",
        "api_key = getpass.getpass(\"Enter your Gemini API key: \")\n",
        "genai.configure(api_key=api_key)\n",
        "\n",
        "model = genai.GenerativeModel(\"gemini-1.5-flash-latest\")\n",
        "\n",
        "def is_numerical_math_question(text):\n",
        "    # Checks if it's a math or numerical problem (simple heuristic)\n",
        "    return bool(re.search(r\"\\d\", text)) and any(op in text for op in ['+', '-', '*', '/', '=', '^', '**', 'solve', 'find', 'calculate'])\n",
        "\n",
        "def solve_math_steps(text):\n",
        "    try:\n",
        "        match = re.search(r'([-+*/^=xX0-9\\(\\)a-zA-Z\\s\\.]+=[-+*/^xX0-9\\(\\)\\s\\.a-zA-Z]+)', text)\n",
        "        if not match:\n",
        "            return \"Couldn't find a valid equation.\"\n",
        "\n",
        "        equation_str = match.group().replace(\" \", \"\")\n",
        "        var_match = re.search(r\"[a-zA-Z]\", equation_str)\n",
        "        if not var_match:\n",
        "            return \"Could not detect variable.\"\n",
        "\n",
        "        var = sp.symbols(var_match.group())\n",
        "        lhs_str, rhs_str = equation_str.split(\"=\")\n",
        "        lhs = sp.sympify(lhs_str)\n",
        "        rhs = sp.sympify(rhs_str)\n",
        "        eq = sp.Eq(lhs, rhs)\n",
        "\n",
        "        steps = []\n",
        "        steps.append(f\"Step 1: Original Equation → {lhs} = {rhs}\")\n",
        "\n",
        "        combined = lhs - rhs\n",
        "        steps.append(f\"Step 2: Bring all terms to one side → {combined} = 0\")\n",
        "        steps.append(\"Explanation: Moved all terms to one side.\")\n",
        "\n",
        "        simplified = sp.simplify(combined)\n",
        "        steps.append(f\"Step 3: Simplify → {simplified} = 0\")\n",
        "        steps.append(\"Explanation: Combined like terms.\")\n",
        "\n",
        "        sol = sp.solve(eq, var)\n",
        "        steps.append(f\"Step 4: Solve for {var} → {var} = {sol[0]}\")\n",
        "        steps.append(\"Explanation: Isolated the variable.\")\n",
        "\n",
        "        return \"\\n\".join(steps)\n",
        "\n",
        "    except Exception as e:\n",
        "        return f\"Math Solver Error: {str(e)}\"\n",
        "\n",
        "def ask_gemini_stepwise(prompt):\n",
        "    try:\n",
        "        stepwise_prompt = f\"\"\"Answer this question step-by-step in a clear, numbered format.\n",
        "\n",
        "        Question: {prompt}\n",
        "\n",
        "        Start the answer like:\n",
        "        Step 1: ...\n",
        "        Step 2: ...\n",
        "        ...\n",
        "        \"\"\"\n",
        "        response = model.generate_content(stepwise_prompt)\n",
        "        return response.text\n",
        "    except Exception as e:\n",
        "        return f\"Gemini error: {str(e)}\"\n",
        "\n",
        "def homework_helper_agent(user_input):\n",
        "    if is_numerical_math_question(user_input.lower()):\n",
        "        return solve_math_steps(user_input)\n",
        "    else:\n",
        "        return ask_gemini_stepwise(user_input)\n"
      ]
    },
    {
      "cell_type": "code",
      "execution_count": 22,
      "metadata": {
        "colab": {
          "base_uri": "https://localhost:8080/"
        },
        "id": "tsy6A2-8nLkb",
        "outputId": "26b44eff-0d72-48d9-90f8-e593573597f3"
      },
      "outputs": [
        {
          "name": "stdout",
          "output_type": "stream",
          "text": [
            "Ask your homework question: Solve for x: 2*x + 5 = 15\n",
            "Step 1: Original Equation → 2*x + 5 = 15\n",
            "Step 2: Bring all terms to one side → 2*x - 10 = 0\n",
            "Explanation: Moved all terms to one side.\n",
            "Step 3: Simplify → 2*x - 10 = 0\n",
            "Explanation: Combined like terms.\n",
            "Step 4: Solve for x → x = 5\n",
            "Explanation: Isolated the variable.\n"
          ]
        }
      ],
      "source": [
        "question = input(\"Ask your homework question: \")\n",
        "print(homework_helper_agent(question))"
      ]
    },
    {
      "cell_type": "code",
      "execution_count": 21,
      "metadata": {
        "colab": {
          "base_uri": "https://localhost:8080/"
        },
        "id": "R8tR0WdGnMND",
        "outputId": "9495c3bc-c3b5-4211-ff64-58c8f7b89bff"
      },
      "outputs": [
        {
          "name": "stdout",
          "output_type": "stream",
          "text": [
            "Ask your homework question: Calculate the kinetic energy of a 2 kg ball moving at 3 m/s.\n",
            "Couldn't find a valid equation.\n"
          ]
        }
      ],
      "source": [
        "question = input(\"Ask your homework question: \")\n",
        "print(homework_helper_agent(question))"
      ]
    },
    {
      "cell_type": "code",
      "execution_count": 23,
      "metadata": {
        "colab": {
          "base_uri": "https://localhost:8080/",
          "height": 332
        },
        "id": "7XIKn88Jqorz",
        "outputId": "acde4f60-e379-4aae-ab72-be8ed9b756ab"
      },
      "outputs": [
        {
          "name": "stdout",
          "output_type": "stream",
          "text": [
            "Ask your homework question: Explain the causes of the French Revolution.\n",
            "Step 1: **Enlightenment Ideals:** The Enlightenment, a philosophical movement emphasizing reason, individual liberty, and popular sovereignty, profoundly influenced French thinkers and revolutionaries.  Ideas of natural rights (life, liberty, and property), popular sovereignty (government by the consent of the governed), and separation of powers fueled discontent with the absolute monarchy.\n",
            "\n",
            "Step 2: **Economic Crisis:** France faced severe financial problems stemming from decades of extravagant spending by the monarchy, costly involvement in wars (like the American Revolution), and a rigid tax system that disproportionately burdened the peasantry and the Third Estate.  Bad harvests led to food shortages and soaring bread prices, exacerbating poverty and resentment.\n",
            "\n",
            "Step 3: **Social Inequality:** French society was rigidly divided into three Estates: the First Estate (clergy), the Second Estate (nobility), and the Third Estate (everyone else – comprising 98% of the population). The First and Second Estates enjoyed significant privileges, including exemption from most taxes, while the Third Estate bore the brunt of taxation and lacked political representation. This vast disparity in wealth, power, and privilege created deep social tensions.\n",
            "\n",
            "Step 4: **Weak Leadership:** King Louis XVI was an indecisive and ineffective ruler, largely unconcerned with the growing economic and social problems facing the nation. His queen, Marie Antoinette, was unpopular due to her perceived extravagance and indifference to the suffering of the people.  This lack of strong and decisive leadership further destabilized the country.\n",
            "\n",
            "Step 5: **Political Ineffectiveness of the Ancien Régime:** The existing political system, the Ancien Régime, was outdated and unresponsive to the needs of the people.  The absolute monarchy lacked mechanisms for effective reform or meaningful participation by the Third Estate.  Attempts at reform were often met with resistance from the privileged classes.\n",
            "\n",
            "Step 6: **Rise of the Bourgeoisie:** The growing middle class (bourgeoisie), comprised of merchants, professionals, and intellectuals, increasingly resented their lack of political power despite their significant economic contributions.  They were educated in Enlightenment ideals and actively sought to challenge the existing social and political order.\n",
            "\n",
            "Step 7: **Loss of Faith in the Monarchy:** A combination of economic hardship, social inequality, and perceived governmental incompetence led to a significant decline in public trust and confidence in the monarchy and the existing system.  This erosion of legitimacy made the monarchy increasingly vulnerable to revolution.\n",
            "\n",
            "Step 8: **Immediate Trigger: The Convocation of the Estates-General:**  King Louis XVI's desperate need for funds forced him to call a meeting of the Estates-General, a representative assembly that hadn't met for 175 years.  The disputes over voting procedures (each Estate having one vote, versus voting by head) and the demands of the Third Estate for greater representation ultimately led to the formation of the National Assembly and the beginning of the revolution.\n",
            "\n"
          ]
        }
      ],
      "source": [
        "question = input(\"Ask your homework question: \")\n",
        "print(homework_helper_agent(question))"
      ]
    }
  ],
  "metadata": {
    "accelerator": "GPU",
    "colab": {
      "gpuType": "A100",
      "machine_shape": "hm",
      "provenance": []
    },
    "kernelspec": {
      "display_name": "Python 3",
      "name": "python3"
    },
    "language_info": {
      "name": "python"
    }
  },
  "nbformat": 4,
  "nbformat_minor": 0
}
